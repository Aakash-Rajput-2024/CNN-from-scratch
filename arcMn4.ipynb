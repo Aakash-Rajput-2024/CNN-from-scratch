{
 "cells": [
  {
   "cell_type": "code",
   "execution_count": 4,
   "metadata": {},
   "outputs": [],
   "source": [
    "import numpy as np\n",
    "import matplotlib.pyplot as plt\n",
    "import tensorflow as tf ## sus ##  --only for loading data\n",
    "import psutil\n",
    "import pickle\n",
    "import os\n",
    "\n"
   ]
  },
  {
   "cell_type": "code",
   "execution_count": 5,
   "metadata": {},
   "outputs": [
    {
     "name": "stdout",
     "output_type": "stream",
     "text": [
      "x_train shape: (60000, 28, 28)\n",
      "x_test shape: (10000, 28, 28)\n",
      "x_train is of type <class 'numpy.ndarray'> and shape (60000, 28, 28)\n",
      "x_test is of type <class 'numpy.ndarray'> and shape (10000, 28, 28)\n"
     ]
    }
   ],
   "source": [
    "\n",
    "(x_train, y_train), (x_test, y_test) = tf.keras.datasets.mnist.load_data()\n",
    "\n",
    "print(f\"x_train shape: {x_train.shape}\")  \n",
    "print(f\"x_test shape: {x_test.shape}\")    \n",
    "\n",
    "x_trin = np.array(x_train)\n",
    "x_tst = np.array(x_test)\n",
    "x_trin = x_trin.astype('float64')    \n",
    "x_tst = x_tst.astype('float64') \n",
    "\n",
    "print(f\"x_train is of type {type(x_trin)} and shape {x_trin.shape}\")\n",
    "print(f\"x_test is of type {type(x_tst)} and shape {x_tst.shape}\")\n"
   ]
  },
  {
   "cell_type": "code",
   "execution_count": 6,
   "metadata": {},
   "outputs": [],
   "source": [
    "x_trin = np.expand_dims(x_trin, axis=-1)\n",
    "x_tst = np.expand_dims(x_tst, axis=-1)\n",
    "\n",
    "x_train=x_trin\n",
    "x_test=x_tst"
   ]
  },
  {
   "cell_type": "code",
   "execution_count": 7,
   "metadata": {},
   "outputs": [
    {
     "data": {
      "text/plain": [
       "(10000, 28, 28, 1)"
      ]
     },
     "execution_count": 7,
     "metadata": {},
     "output_type": "execute_result"
    }
   ],
   "source": [
    "x_test.shape\n"
   ]
  },
  {
   "cell_type": "code",
   "execution_count": 8,
   "metadata": {},
   "outputs": [],
   "source": [
    "def batch_norm(x, scale, shift, eps=1e-5):  \n",
    "\n",
    "    mean = np.mean(x, axis=(0, 1, 2))  \n",
    "    variance = np.mean((x - mean)**2, axis=(0, 1, 2)) \n",
    "    \n",
    "\n",
    "    xmu = x - mean  \n",
    "    ivar = 1 / np.sqrt(variance + eps) \n",
    "    norm = xmu * ivar  \n",
    "    \n",
    "    newX = norm * scale + shift  \n",
    "\n",
    "    cache = (norm, xmu, ivar, variance, eps)\n",
    "    return newX, cache\n",
    "\n",
    "def batch_norm_backward(dout, cache, scale):\n",
    "    norm, xmu, ivar, variance, eps = cache\n",
    "    N, H, W, C = dout.shape\n",
    "\n",
    "    dsc = np.sum(dout * norm, axis=(0, 1, 2))  \n",
    "    dsh = np.sum(dout, axis=(0, 1, 2))  \n",
    "    dxhat = dout * scale  \n",
    "\n",
    "    dvar = np.sum(dxhat * xmu * (-0.5) * (ivar**3), axis=(0, 1, 2))  \n",
    "\n",
    "    dmu = np.sum(dxhat * (-ivar), axis=(0, 1, 2)) + dvar * (-2 / (N*H*W)) * np.sum(xmu, axis=(0, 1, 2)) \n",
    "\n",
    "    dx = (dxhat * ivar) + (dvar * 2 * xmu / (N*H*W)) + (dmu / (N*H*W)) \n",
    "\n",
    "    return dx, dsc, dsh\n",
    "    "
   ]
  },
  {
   "cell_type": "code",
   "execution_count": 9,
   "metadata": {},
   "outputs": [],
   "source": [
    "x=np.random.randn(100,32,32,64)*100\n",
    "sc=np.ones(64)\n",
    "shift=np.zeros(64)\n",
    "new=batch_norm(x,sc,shift)\n"
   ]
  },
  {
   "cell_type": "code",
   "execution_count": 10,
   "metadata": {},
   "outputs": [],
   "source": [
    "def para():\n",
    "    \n",
    "\n",
    "\n",
    "   \n",
    "    Wcn1 = np.random.randn(16, 3, 3, 1) * np.sqrt(2.0 / (3 * 3 * 3))\n",
    "    bcn1 = np.zeros((1, 1, 1, 16))\n",
    "    Sc1  = np.ones((1, 1, 1, 16))  \n",
    "    Sh1  = np.zeros((1, 1, 1, 16)) \n",
    "\n",
    " \n",
    "    Wcn2 = np.random.randn(32, 3, 3, 16) * np.sqrt(2.0 / (3 * 3 * 32))\n",
    "    bcn2 = np.zeros((1, 1, 1, 32))\n",
    "    Sc2  = np.ones((1, 1, 1, 32))\n",
    "    Sh2  = np.zeros((1, 1, 1, 32))\n",
    "\n",
    "    \n",
    "    Wcn3 = np.random.randn(64, 3, 3, 32) * np.sqrt(2.0 / (3 * 3 * 32))\n",
    "    bcn3 = np.zeros((1, 1, 1, 64))\n",
    "    Sc3  = np.ones((1, 1, 1, 64))\n",
    "    Sh3  = np.zeros((1, 1, 1, 64))\n",
    "\n",
    "   \n",
    "    Wcn4 = np.random.randn(64, 3, 3, 64) * np.sqrt(2.0 / (3 * 3 * 64))\n",
    "    bcn4 = np.zeros((1, 1, 1, 64))\n",
    "    Sc4  = np.ones((1, 1, 1, 64))\n",
    "    Sh4  = np.zeros((1, 1, 1, 64))\n",
    "\n",
    "    Wcn5 = np.random.randn(128, 3, 3, 64) * np.sqrt(2.0 / (3 * 3 * 64))\n",
    "    bcn5 = np.zeros((1, 1, 1, 128))\n",
    "    Sc5  = np.ones((1, 1, 1, 128))\n",
    "    Sh5  = np.zeros((1, 1, 1, 128))\n",
    "\n",
    "\n",
    "    W1 = np.random.randn(1028, 512) * np.sqrt(2.0 / 1152)\n",
    "    b1 = np.zeros((1028, 1))\n",
    "\n",
    "    W2 = np.random.randn(512, 1028) * np.sqrt(2.0 / 512)\n",
    "    b2 = np.zeros((512, 1))\n",
    "\n",
    "    W3 = np.random.randn(10, 512) * np.sqrt(2.0 / 512)\n",
    "    b3 = np.zeros((10, 1))\n",
    "\n",
    "  \n",
    "\n",
    "    \n",
    "    return W1, b1, W2, b2, W3, b3, Wcn1, bcn1, Wcn2, bcn2, Wcn3, bcn3, Wcn4, bcn4 ,Wcn5 ,bcn5 ,Sc1,Sc2,Sc3,Sc4,Sc5,Sh1,Sh2,Sh3,Sh4,Sh5  #OK\n"
   ]
  },
  {
   "cell_type": "code",
   "execution_count": 11,
   "metadata": {},
   "outputs": [],
   "source": [
    "def con(X, K):\n",
    "    H, _, D = X.shape\n",
    "    K_size, _, _ = K.shape  \n",
    "    output_size = H - K_size + 1\n",
    "    \n",
    "    patches = np.lib.stride_tricks.sliding_window_view(X, (K_size, K_size, D))\n",
    "    patches = patches.reshape(output_size, output_size, K_size * K_size * D)\n",
    "\n",
    "  \n",
    "    K_flat = K.reshape(K_size * K_size * D)\n",
    "\n",
    "\n",
    "    output = np.tensordot(patches, K_flat, axes=([2], [0]))\n",
    "    return output \n",
    "\n",
    "#Main convolution funtion\n",
    "\n",
    "\n"
   ]
  },
  {
   "cell_type": "code",
   "execution_count": 12,
   "metadata": {},
   "outputs": [],
   "source": [
    "def max_pooling(X):\n",
    "   \n",
    "    \n",
    "    batch_size, height, width, channel = X.shape\n",
    "    if(height%2!=0):\n",
    "        padding = ((0, 0), (1, 0), (1, 0), (0, 0))  \n",
    "        X= np.pad(X, padding, mode='constant', constant_values=0)\n",
    "        batch_size, height, width, channel = X.shape\n",
    "    \n",
    "\n",
    "    X_reshaped = X.reshape(batch_size, height//2, 2, width//2, 2, channel)\n",
    "    pooled = X_reshaped.max(axis=(2, 4))\n",
    "    \n",
    "    return pooled\n",
    "\n",
    "\n",
    "\n",
    "#ok\n",
    "\n"
   ]
  },
  {
   "cell_type": "code",
   "execution_count": 13,
   "metadata": {},
   "outputs": [],
   "source": [
    "\n",
    "def conFp(X,K,b=0):  #batch,height,height,depth * nfilter,kh,kh,depth = output[batch.size,h,h,nfilters]\n",
    "    batch_size,height,_,_=X.shape\n",
    "    Nfilter,kernal_h,kernal_h,depth=K.shape\n",
    "    \n",
    "    \n",
    "    output=np.zeros((batch_size,height-kernal_h+1,height-kernal_h+1,Nfilter))  #ok\n",
    "    \n",
    "    for i in range (batch_size):\n",
    "        for k in range (Nfilter):\n",
    "            output [i,:,:,k] = con(X[i],K[k])  #calls convolution function for every filter and element of batchSize indivisualy\n",
    "    \n",
    "    \n",
    "    return output+b\n",
    "    \n",
    "def ReLU(Z, alpha=0.01):\n",
    "    return np.where(Z > 0, Z, alpha * Z)\n",
    "\n",
    "\n",
    "def ReLU_deriv(Z):\n",
    "    return (Z > 0).astype(np.float64)\n",
    "\n",
    "def one_hot(Y):\n",
    "    Y = Y.astype(int)  \n",
    "    one_hot_Y = np.zeros((Y.size, 10))\n",
    "    for i in range(len(Y)):\n",
    "        one_hot_Y[i, Y[i]] = 1\n",
    "    return one_hot_Y.T\n",
    "\n",
    "\n",
    "def softmax(Z):\n",
    "    assert not np.isnan(Z).any(), \"NaN detected in Z\"\n",
    "    assert not np.isinf(Z).any(), \"Inf detected in Z\"\n",
    "\n",
    "    \n",
    "    expZ = np.exp(Z - np.max(Z, axis=0, keepdims=True)) \n",
    "    return expZ / np.sum(expZ, axis=0, keepdims=True) #ok \n",
    "\n",
    "\n"
   ]
  },
  {
   "cell_type": "code",
   "execution_count": 14,
   "metadata": {},
   "outputs": [],
   "source": [
    "def ConvEr(X, dZ):  #backprop for convolution layers\n",
    "\n",
    "    bs, H, W, C_in = X.shape\n",
    "    _, H_out, W_out, C_out = dZ.shape\n",
    "    f = 3\n",
    "\n",
    "    \n",
    "    dW = np.zeros((f, f, C_in, C_out))\n",
    "    db = np.sum(dZ, axis=(0, 1, 2), keepdims=True)  \n",
    "\n",
    "\n",
    "    for i in range(f):  \n",
    "        for j in range(f):  \n",
    "            X_slice = X[:, i:i+H_out, j:j+W_out, :]  \n",
    "            dW[i, j, :, :] = np.tensordot(X_slice, dZ, axes=([0, 1, 2], [0, 1, 2]))\n",
    "            \n",
    "    dW=np.transpose(dW, (3, 0, 1, 2))\n",
    "\n",
    "    return dW/bs, db/bs\n",
    "\n",
    "\n",
    "def convBp(X,K,b=0):  #batch,height,height,depth * nfilter,kh,kh,depth = output[batch.size,h,h,nfilters]  #OK\n",
    "    \n",
    "    K_flipped = np.flip(K, axis=(1, 2)) \n",
    "    K_swapped = np.transpose(K_flipped, (3, 1, 2, 0))\n",
    "    \n",
    "    X_new=np.pad(X, ((0, 0), (2, 2), (2, 2), (0, 0)), mode='constant', constant_values=0)\n",
    "    \n",
    "\n",
    "    return conFp(X_new,K_swapped) #This returns loss gradient for previous layers\n",
    "    "
   ]
  },
  {
   "cell_type": "code",
   "execution_count": 51,
   "metadata": {},
   "outputs": [
    {
     "data": {
      "text/plain": [
       "(100, 32, 32, 3)"
      ]
     },
     "execution_count": 51,
     "metadata": {},
     "output_type": "execute_result"
    }
   ],
   "source": [
    "out=np.random.rand(100,30,30,4)\n",
    "w=np.random.rand(4,3,3,3)\n",
    "new=convBp(out,w)\n",
    "new.shape"
   ]
  },
  {
   "cell_type": "code",
   "execution_count": 15,
   "metadata": {},
   "outputs": [],
   "source": [
    "\n",
    "\n",
    "def max_unpool_error(original, pooled_error):  #OK\n",
    "\n",
    "    bs, h, w, f = pooled_error.shape \n",
    "    _, H, W, _ = original.shape  \n",
    "\n",
    "   \n",
    "    unpooled_error = np.zeros_like(original, dtype=np.float32)\n",
    "\n",
    "    for b in range(bs):         \n",
    "        for i in range(h):       \n",
    "            for j in range(w): \n",
    "                for c in range(f):  \n",
    "      \n",
    "                    patch = original[b, 2*i:2*i+2, 2*j:2*j+2, c]\n",
    "\n",
    "                    max_idx = np.argmax(patch)  \n",
    "                    row, col = divmod(max_idx, 2)  \n",
    "\n",
    "                    unpooled_error[b, 2*i + row, 2*j + col, c] = pooled_error[b, i, j, c]\n",
    "\n",
    "    return unpooled_error\n",
    "\n",
    "\n"
   ]
  },
  {
   "cell_type": "code",
   "execution_count": 17,
   "metadata": {},
   "outputs": [],
   "source": [
    "def forward_prop(X, W1, b1, W2, b2, W3, b3, \n",
    "                 Wcn1, Wcn2, Wcn3, Wcn4, Wcn5, \n",
    "                 bcn1, bcn2, bcn3, bcn4, bcn5,\n",
    "                 sc1, sc2, sc3, sc4, sc5,\n",
    "                 sh1, sh2, sh3, sh4, sh5):\n",
    "\n",
    "    Zcn1 = conFp(X, Wcn1, bcn1)         #  (bs, 32, 32, 3) -> (bs, 30, 30, C1)\n",
    "    Zcnn1, cac1 = batch_norm(Zcn1, sc1, sh1)\n",
    "    Acn1 = ReLU(Zcnn1)\n",
    "    \n",
    "\n",
    "    Zcn2 = conFp(Acn1, Wcn2, bcn2)       # (bs, 30, 30, C1) -> (bs, 28, 28, C2)\n",
    "    Zcnn2, cac2 = batch_norm(Zcn2, sc2, sh2)\n",
    "    Acn2 = ReLU(Zcnn2)\n",
    "    \n",
    "    Mp1 = max_pooling(Acn2)           \n",
    "    \n",
    "\n",
    "    Zcn3 = conFp(Mp1, Wcn3, bcn3)       # (bs, H3, W3, C3)\n",
    "    Zcnn3, cac3 = batch_norm(Zcn3, sc3, sh3)\n",
    "    Acn3 = ReLU(Zcnn3)\n",
    "    \n",
    "\n",
    "    Zcn4 = conFp(Acn3, Wcn4, bcn4)       # (bs, H4, W4, C4)\n",
    "    Zcnn4, cac4 = batch_norm(Zcn4, sc4, sh4)\n",
    "    Acn4 = ReLU(Zcnn4)\n",
    "    \n",
    "    Mp2 = max_pooling(Acn4)           \n",
    "    \n",
    "  \n",
    "    Zcn5 = conFp(Mp2, Wcn5, bcn5)       # (bs, H5, W5, C5)\n",
    "    Zcnn5, cac5 = batch_norm(Zcn5, sc5, sh5)\n",
    "    Acn5 = ReLU(Zcnn5)                \n",
    "    \n",
    "    \n",
    "    flat = Acn5.reshape(X.shape[0], -1).T  # (flatten_dim, bs)\n",
    "    \n",
    "    \n",
    "    Z1 = W1.dot(flat) + b1              # (128, bs)\n",
    "    A1 = ReLU(Z1)\n",
    "\n",
    "    Z2 = W2.dot(A1) + b2\n",
    "    A2 = ReLU(Z2)\n",
    "    \n",
    "    \n",
    "    Z3=W3.dot(A2) + b3\n",
    "    Y_e = softmax(Z3)\n",
    "    \n",
    "   \n",
    "    return (Y_e, \n",
    "            Acn1, Acn2, Mp1, \n",
    "            Acn3, Acn4, Mp2, \n",
    "            Acn5, \n",
    "            A1,A2,\n",
    "            Z1, Z2, Z3,\n",
    "            Zcn1, Zcn2, Zcn3, Zcn4, Zcn5,\n",
    "            cac1, cac2, cac3, cac4, cac5,\n",
    "            Zcnn1, Zcnn2, Zcnn3, Zcnn4, Zcnn5)\n"
   ]
  },
  {
   "cell_type": "code",
   "execution_count": 18,
   "metadata": {},
   "outputs": [],
   "source": [
    "def back_prop(X, Y, Y_e, \n",
    "              W1, b1, W2, b2, W3, b3,\n",
    "              Wcn1, Wcn2, Wcn3, Wcn4, Wcn5, \n",
    "              bcn1, bcn2, bcn3, bcn4, bcn5,\n",
    "              sc1, sc2, sc3, sc4, sc5,\n",
    "              sh1, sh2, sh3, sh4, sh5,\n",
    "              cac1, cac2, cac3, cac4, cac5,\n",
    "             \n",
    "              Acn1, Acn2, Mp1, Acn3, Acn4, Mp2, Acn5,\n",
    "              A1, A2,\n",
    "              Z1, Z2,Z3,\n",
    "    \n",
    "              Zcnn1, Zcnn2, Zcnn3, Zcnn4, Zcnn5):\n",
    " \n",
    "    m = X.shape[0]\n",
    "\n",
    "\n",
    "    one_hot_Y = one_hot(Y)  \n",
    "    dZ3 = (Y_e - one_hot_Y) / m  \n",
    "    \n",
    "    dW3 = dZ3.dot(A2.T)\n",
    "    db3 = np.sum(dZ3, axis=1, keepdims=True)\n",
    "    dA2 = W3.T.dot(dZ3) \n",
    "    \n",
    "    dZ2 = dA2 * ReLU_deriv(Z2)\n",
    "    dW2 = dZ2.dot(A1.T)\n",
    "    db2 = np.sum(dZ2, axis=1, keepdims=True)\n",
    "    \n",
    "    dA1 = W2.T.dot(dZ2) \n",
    "    dZ1 = dA1 * ReLU_deriv(Z1)   \n",
    "    acn5_flat = Acn5.reshape(m, -1).T\n",
    "\n",
    "    dW1 = dZ1.dot(acn5_flat.T)\n",
    "    db1 = np.sum(dZ1, axis=1, keepdims=True)\n",
    "    \n",
    "\n",
    "    d_flat = W1.T.dot(dZ1).T\n",
    "    d_flat = d_flat.reshape(Acn5.shape)\n",
    "    \n",
    "\n",
    "    dAcn5 = d_flat \n",
    "   \n",
    "    dZcnn5 = dAcn5 * ReLU_deriv(Zcnn5)\n",
    "\n",
    "    dx5, dsc5, dsh5 = batch_norm_backward(dZcnn5, cac5, sc5)\n",
    "\n",
    "    dWcn5, dbcn5 = ConvEr(Mp2, dx5)\n",
    "\n",
    "    dMp2 = convBp(dx5, Wcn5)\n",
    "    \n",
    "\n",
    "    dAcn4 = max_unpool_error(Acn4, dMp2)\n",
    "    dZcnn4 = dAcn4 * ReLU_deriv(Zcnn4)\n",
    "    dx4, dsc4, dsh4 = batch_norm_backward(dZcnn4, cac4, sc4)\n",
    " \n",
    "    dWcn4, dbcn4 = ConvEr(Acn3, dx4)\n",
    "    dAcn3 = convBp(dx4, Wcn4)\n",
    "\n",
    "    dZcnn3 = dAcn3 * ReLU_deriv(Zcnn3)\n",
    "    dx3, dsc3, dsh3 = batch_norm_backward(dZcnn3, cac3, sc3)\n",
    "\n",
    "    dWcn3, dbcn3 = ConvEr(Mp1, dx3)\n",
    "    dMp1 = convBp(dx3, Wcn3)\n",
    "\n",
    "    dAcn2 = max_unpool_error(Acn2, dMp1)\n",
    "    dZcnn2 = dAcn2 * ReLU_deriv(Zcnn2)\n",
    "    dx2, dsc2, dsh2 = batch_norm_backward(dZcnn2, cac2, sc2)\n",
    "\n",
    "    dWcn2, dbcn2 = ConvEr(Acn1, dx2)\n",
    "    dAcn1 = convBp(dx2, Wcn2)\n",
    "\n",
    "    dZcnn1 = dAcn1 * ReLU_deriv(Zcnn1)\n",
    "    dx1, dsc1, dsh1 = batch_norm_backward(dZcnn1, cac1, sc1)\n",
    "\n",
    "    dWcn1, dbcn1 = ConvEr(X, dx1)\n",
    "    \n",
    "    \n",
    "    return (dW2, db2, dW1, db1, dW3 ,db3,\n",
    "            dWcn5, dbcn5, dWcn4, dbcn4, dWcn3, dbcn3,\n",
    "            dWcn2, dbcn2, dWcn1, dbcn1,\n",
    "            dsc1, dsh1, dsc2, dsh2, \n",
    "            dsc3, dsh3, dsc4, dsh4,\n",
    "            dsc5, dsh5)\n"
   ]
  },
  {
   "cell_type": "code",
   "execution_count": null,
   "metadata": {},
   "outputs": [],
   "source": []
  },
  {
   "cell_type": "code",
   "execution_count": 19,
   "metadata": {},
   "outputs": [],
   "source": [
    "\n",
    "def compute_loss(Y, Y_e, epsilon=1e-8):\n",
    "\n",
    "    m = Y.shape[0] \n",
    "    correct_probs = Y_e[Y, np.arange(m)]\n",
    "  \n",
    "    loss = -np.sum(np.log(correct_probs + epsilon)) / m\n",
    "    \n",
    "    return loss\n",
    "\n"
   ]
  },
  {
   "cell_type": "code",
   "execution_count": null,
   "metadata": {},
   "outputs": [],
   "source": [
    "def gradient_descent(X, Y, learning_rate, num_iterations, print_every=100):\n",
    "\n",
    "    W1, b1, W2, b2, W3, b3, Wcn1, bcn1, Wcn2, bcn2, Wcn3, bcn3, Wcn4, bcn4 ,Wcn5 ,bcn5 ,sc1,sc2,sc3,sc4,sc5,sh1,sh2,sh3,sh4,sh5= para()\n",
    "    \n",
    "    m = X.shape[0]\n",
    "    \n",
    "    for i in range(num_iterations):\n",
    "        \n",
    "        (Y_e, \n",
    "            Acn1, Acn2, Mp1, \n",
    "            Acn3, Acn4, Mp2, \n",
    "            Acn5, \n",
    "            A1, A2,\n",
    "            Z1, Z2, Z3,\n",
    "            Zcn1, Zcn2, Zcn3, Zcn4, Zcn5,\n",
    "            cac1, cac2, cac3, cac4, cac5,\n",
    "            Zcnn1, Zcnn2, Zcnn3, Zcnn4, Zcnn5) = forward_prop(X, W1, b1, W2, b2, W3, b3,\n",
    "                 Wcn1, Wcn2, Wcn3, Wcn4, Wcn5, \n",
    "                 bcn1, bcn2, bcn3, bcn4, bcn5,\n",
    "                 sc1, sc2, sc3, sc4, sc5,\n",
    "                 sh1, sh2, sh3, sh4, sh5)\n",
    "        \n",
    "        \n",
    "        loss = compute_loss(Y, Y_e)\n",
    "        \n",
    "      \n",
    "        (dW2, db2, dW1, db1, dW3, db3,\n",
    "            dWcn5, dbcn5, dWcn4, dbcn4, dWcn3, dbcn3,\n",
    "            dWcn2, dbcn2, dWcn1, dbcn1,\n",
    "            dsc1, dsh1, dsc2, dsh2, \n",
    "            dsc3, dsh3, dsc4, dsh4,\n",
    "            dsc5, dsh5) =  back_prop(X, Y, Y_e, \n",
    "              W1, b1, W2, b2, W3, b3,\n",
    "              Wcn1, Wcn2, Wcn3, Wcn4, Wcn5, \n",
    "              bcn1, bcn2, bcn3, bcn4, bcn5,\n",
    "              sc1, sc2, sc3, sc4, sc5,\n",
    "              sh1, sh2, sh3, sh4, sh5,\n",
    "              cac1, cac2, cac3, cac4, cac5,\n",
    "              \n",
    "              Acn1, Acn2, Mp1, Acn3, Acn4, Mp2, Acn5,\n",
    "              A1, A2,\n",
    "              Z1, Z2, Z3,\n",
    "              \n",
    "              Zcnn1, Zcnn2, Zcnn3, Zcnn4, Zcnn5)\n",
    "        \n",
    "\n",
    "        W3 -= learning_rate * dW3\n",
    "        b3 -= learning_rate * db3\n",
    "        W2 -= learning_rate * dW2\n",
    "        b2 -= learning_rate * db2\n",
    "        W1 -= learning_rate * dW1\n",
    "        b1 -= learning_rate * db1\n",
    "        \n",
    "\n",
    "        Wcn5 -= learning_rate * dWcn5\n",
    "        bcn5 -= learning_rate * dbcn5\n",
    "        Wcn4 -= learning_rate * dWcn4\n",
    "        bcn4 -= learning_rate * dbcn4\n",
    "        Wcn3 -= learning_rate * dWcn3\n",
    "        bcn3 -= learning_rate * dbcn3\n",
    "        Wcn2 -= learning_rate * dWcn2\n",
    "        bcn2 -= learning_rate * dbcn2\n",
    "        Wcn1 -= learning_rate * dWcn1\n",
    "        bcn1 -= learning_rate * dbcn1\n",
    "        \n",
    "      \n",
    "        sc1 -= learning_rate * dsc1\n",
    "        sh1 -= learning_rate * dsh1\n",
    "        sc2 -= learning_rate * dsc2\n",
    "        sh2 -= learning_rate * dsh2\n",
    "        sc3 -= learning_rate * dsc3\n",
    "        sh3 -= learning_rate * dsh3\n",
    "        sc4 -= learning_rate * dsc4\n",
    "        sh4 -= learning_rate * dsh4\n",
    "        sc5 -= learning_rate * dsc5\n",
    "        sh5 -= learning_rate * dsh5\n",
    "        \n",
    "   \n",
    "        preds = np.argmax(Y_e, axis=0)\n",
    "        accuracy = np.mean(preds == Y) * 100\n",
    "        \n",
    "        if i % print_every == 0:\n",
    "            print(f\"Iter {i}: Loss={loss:.4f}, Acc={accuracy:.2f}%\")\n",
    "    \n",
    "    return (W1, b1, W2, b2, W3, b3,\n",
    "            Wcn1, bcn1, sc1, sh1,\n",
    "            Wcn2, bcn2, sc2, sh2,\n",
    "            Wcn3, bcn3, sc3, sh3,\n",
    "            Wcn4, bcn4, sc4, sh4,\n",
    "            Wcn5, bcn5, sc5, sh5)\n"
   ]
  },
  {
   "cell_type": "code",
   "execution_count": 24,
   "metadata": {},
   "outputs": [],
   "source": [
    "#this gradient descent funtion is just the orginal one but it doesn 't initialise parameters inside it instead take in parameters (from prev training ) and refines it\n",
    "def gradient_descent_2(X, Y, W1, b1, W2, b2, W3, b3,\n",
    "                       Wcn1, bcn1, Wcn2, bcn2, Wcn3, bcn3, Wcn4, bcn4, Wcn5, bcn5,\n",
    "                       sc1, sh1, sc2, sh2, sc3, sh3, sc4, sh4, sc5, sh5,\n",
    "                       learning_rate, num_iterations, print_every=1):\n",
    "    \n",
    "    m = X.shape[0]\n",
    "    \n",
    "    for i in range(num_iterations):\n",
    "        \n",
    "        (Y_e, \n",
    "            Acn1, Acn2, Mp1, \n",
    "            Acn3, Acn4, Mp2, \n",
    "            Acn5, \n",
    "            A1, A2,\n",
    "            Z1, Z2, Z3,\n",
    "            Zcn1, Zcn2, Zcn3, Zcn4, Zcn5,\n",
    "            cac1, cac2, cac3, cac4, cac5,\n",
    "            Zcnn1, Zcnn2, Zcnn3, Zcnn4, Zcnn5) = forward_prop(X, W1, b1, W2, b2, W3, b3,\n",
    "                 Wcn1, Wcn2, Wcn3, Wcn4, Wcn5, \n",
    "                 bcn1, bcn2, bcn3, bcn4, bcn5,\n",
    "                 sc1, sc2, sc3, sc4, sc5,\n",
    "                 sh1, sh2, sh3, sh4, sh5)\n",
    "        \n",
    "        \n",
    "        loss = compute_loss(Y, Y_e)\n",
    "        \n",
    "      \n",
    "        (dW2, db2, dW1, db1, dW3, db3,\n",
    "            dWcn5, dbcn5, dWcn4, dbcn4, dWcn3, dbcn3,\n",
    "            dWcn2, dbcn2, dWcn1, dbcn1,\n",
    "            dsc1, dsh1, dsc2, dsh2, \n",
    "            dsc3, dsh3, dsc4, dsh4,\n",
    "            dsc5, dsh5) =  back_prop(X, Y, Y_e, \n",
    "              W1, b1, W2, b2, W3, b3,\n",
    "              Wcn1, Wcn2, Wcn3, Wcn4, Wcn5, \n",
    "              bcn1, bcn2, bcn3, bcn4, bcn5,\n",
    "              sc1, sc2, sc3, sc4, sc5,\n",
    "              sh1, sh2, sh3, sh4, sh5,\n",
    "              cac1, cac2, cac3, cac4, cac5,\n",
    "              \n",
    "              Acn1, Acn2, Mp1, Acn3, Acn4, Mp2, Acn5,\n",
    "              A1, A2,\n",
    "              Z1, Z2, Z3,\n",
    "              \n",
    "              Zcnn1, Zcnn2, Zcnn3, Zcnn4, Zcnn5)\n",
    "        \n",
    "\n",
    "        W3 -= learning_rate * dW3\n",
    "        b3 -= learning_rate * db3\n",
    "        W2 -= learning_rate * dW2\n",
    "        b2 -= learning_rate * db2\n",
    "        W1 -= learning_rate * dW1\n",
    "        b1 -= learning_rate * db1\n",
    "        \n",
    "\n",
    "        Wcn5 -= learning_rate * dWcn5\n",
    "        bcn5 -= learning_rate * dbcn5\n",
    "        Wcn4 -= learning_rate * dWcn4\n",
    "        bcn4 -= learning_rate * dbcn4\n",
    "        Wcn3 -= learning_rate * dWcn3\n",
    "        bcn3 -= learning_rate * dbcn3\n",
    "        Wcn2 -= learning_rate * dWcn2\n",
    "        bcn2 -= learning_rate * dbcn2\n",
    "        Wcn1 -= learning_rate * dWcn1\n",
    "        bcn1 -= learning_rate * dbcn1\n",
    "        \n",
    "      \n",
    "        sc1 -= learning_rate * dsc1\n",
    "        sh1 -= learning_rate * dsh1\n",
    "        sc2 -= learning_rate * dsc2\n",
    "        sh2 -= learning_rate * dsh2\n",
    "        sc3 -= learning_rate * dsc3\n",
    "        sh3 -= learning_rate * dsh3\n",
    "        sc4 -= learning_rate * dsc4\n",
    "        sh4 -= learning_rate * dsh4\n",
    "        sc5 -= learning_rate * dsc5\n",
    "        sh5 -= learning_rate * dsh5\n",
    "        \n",
    "   \n",
    "        preds = np.argmax(Y_e, axis=0)\n",
    "        accuracy = np.mean(preds == Y) * 100\n",
    "        \n",
    "        if i % print_every == 0:\n",
    "            print(f\"Iter {i}: Loss={loss:.4f}, Acc={accuracy:.2f}%\")\n",
    "    \n",
    "    return (W1, b1, W2, b2, W3, b3,\n",
    "            Wcn1, bcn1, sc1, sh1,\n",
    "            Wcn2, bcn2, sc2, sh2,\n",
    "            Wcn3, bcn3, sc3, sh3,\n",
    "            Wcn4, bcn4, sc4, sh4,\n",
    "            Wcn5, bcn5, sc5, sh5)"
   ]
  },
  {
   "cell_type": "code",
   "execution_count": 23,
   "metadata": {},
   "outputs": [
    {
     "name": "stdout",
     "output_type": "stream",
     "text": [
      "Iter 0: Loss=2.6878, Acc=11.00%\n",
      "Iter 1: Loss=1.8936, Acc=43.50%\n",
      "Iter 2: Loss=1.3524, Acc=59.00%\n",
      "Iter 3: Loss=0.9813, Acc=76.00%\n",
      "Iter 4: Loss=0.6260, Acc=91.50%\n"
     ]
    }
   ],
   "source": [
    "(W1, b1, W2, b2, W3, b3, Wcn1, bcn1,sc1,sh1,Wcn2, bcn2, sc2, sh2,Wcn3, bcn3, sc3, sh3,Wcn4, bcn4, sc4, sh4,Wcn5, bcn5, sc5, sh5)= gradient_descent(x_train[:200],y_train[:200], 0.1, 5)"
   ]
  },
  {
   "cell_type": "code",
   "execution_count": 25,
   "metadata": {},
   "outputs": [
    {
     "name": "stdout",
     "output_type": "stream",
     "text": [
      "LOADED....\n"
     ]
    }
   ],
   "source": [
    "\n",
    "SAVE_PATH = \"weightsMNIST4.pkl\"\n",
    "\n",
    "with open(SAVE_PATH, \"rb\") as f:\n",
    "    weights = pickle.load(f)\n",
    "\n",
    "W1, b1 = weights[\"W1\"], weights[\"b1\"]\n",
    "W2, b2 = weights[\"W2\"], weights[\"b2\"]\n",
    "W3, b3 = weights[\"W3\"], weights[\"b3\"]\n",
    "\n",
    "Wcn1, bcn1, sc1, sh1 = weights[\"Wcn1\"], weights[\"bcn1\"], weights[\"sc1\"], weights[\"sh1\"]\n",
    "Wcn2, bcn2, sc2, sh2 = weights[\"Wcn2\"], weights[\"bcn2\"], weights[\"sc2\"], weights[\"sh2\"]\n",
    "Wcn3, bcn3, sc3, sh3 = weights[\"Wcn3\"], weights[\"bcn3\"], weights[\"sc3\"], weights[\"sh3\"]\n",
    "Wcn4, bcn4, sc4, sh4 = weights[\"Wcn4\"], weights[\"bcn4\"], weights[\"sc4\"], weights[\"sh4\"]\n",
    "Wcn5, bcn5, sc5, sh5 = weights[\"Wcn5\"], weights[\"bcn5\"], weights[\"sc5\"], weights[\"sh5\"]\n",
    "\n",
    "print(\"LOADED....\")\n"
   ]
  },
  {
   "cell_type": "code",
   "execution_count": 29,
   "metadata": {},
   "outputs": [
    {
     "name": "stdout",
     "output_type": "stream",
     "text": [
      "Iter 0: Loss=0.1404, Acc=96.00%\n",
      "Memory usage: 64.2%\n",
      "Iteration 1\n",
      "Epoch 0.000\n",
      "Actual accuracy: 95.00%\n",
      "Weights saved at iteration 0\n"
     ]
    }
   ],
   "source": [
    "\n",
    "BATCH_SIZE = 100\n",
    "SAVE_INTERVAL = 10\n",
    "SAVE_PATH = \"weightsMNIST5.pkl\"\n",
    "ALPHA = 0.1\n",
    "\n",
    "for i in range(1):\n",
    "\n",
    "    start_idx = ((i)* BATCH_SIZE) % len(x_train)\n",
    "    \n",
    "    end_idx = min(start_idx + BATCH_SIZE, len(x_train))\n",
    "    \n",
    "    batch_x = x_train[start_idx:end_idx]\n",
    "    batch_y = y_train[start_idx:end_idx]\n",
    "\n",
    "    (W1, b1, W2, b2, W3, b3,\n",
    "            Wcn1, bcn1, sc1, sh1,\n",
    "            Wcn2, bcn2, sc2, sh2,\n",
    "            Wcn3, bcn3, sc3, sh3,\n",
    "            Wcn4, bcn4, sc4, sh4,\n",
    "            Wcn5, bcn5, sc5, sh5)= gradient_descent_2(x_train[start_idx:end_idx], y_train[start_idx:end_idx], W1, b1, W2, b2, W3, b3,\n",
    "                       Wcn1, bcn1, Wcn2, bcn2, Wcn3, bcn3, Wcn4, bcn4, Wcn5, bcn5,\n",
    "                       sc1, sh1, sc2, sh2, sc3, sh3, sc4, sh4, sc5, sh5,\n",
    "                        ALPHA, 1,100)\n",
    "\n",
    "    if i % 10 == 0:\n",
    "        print(f\"Memory usage: {psutil.virtual_memory().percent}%\")\n",
    "    \n",
    "    print(f\"Iteration {i+1}\")\n",
    "\n",
    "    if i  == 0 :\n",
    "        epoch = i / (len(x_train) / BATCH_SIZE)\n",
    "        print(f\"Epoch {epoch:.3f}\")\n",
    "        rm=np.random.randint(1,100)\n",
    "        ALPHA/=1.1\n",
    "\n",
    "        Y_ef, *_ = forward_prop(x_test[rm*100:(rm+1)*100], W1, b1, W2, b2, W3, b3,  #checks accuracy on a random batch of hundred form the testing data set\n",
    "                 Wcn1, Wcn2, Wcn3, Wcn4, Wcn5, \n",
    "                 bcn1, bcn2, bcn3, bcn4, bcn5,\n",
    "                 sc1,sc2,sc3,sc4,sc5,\n",
    "                 sh1,sh2,sh3,sh4,sh5)\n",
    "        \n",
    "        preds = np.argmax(Y_ef, axis=0)\n",
    "        actual_accuracy = np.mean(preds == y_test[rm*100:(rm+1)*100]) * 100\n",
    "        print(f\"Actual accuracy: {actual_accuracy:.2f}%\")\n",
    "\n",
    "    if i % SAVE_INTERVAL == 0:\n",
    "        weights = {\n",
    "            \"W1\": W1, \"b1\": b1, \"W2\": W2, \"b2\": b2, \"W3\": W3, \"b3\": b3,\n",
    "            \"Wcn1\": Wcn1, \"bcn1\": bcn1, \"Wcn2\": Wcn2, \"bcn2\": bcn2,\n",
    "            \"Wcn3\": Wcn3, \"bcn3\": bcn3, \"Wcn4\": Wcn4, \"bcn4\": bcn4,\n",
    "            \"Wcn5\": Wcn5, \"bcn5\": bcn5,\n",
    "            \"sc1\": sc1, \"sh1\": sh1, \"sc2\": sc2, \"sh2\": sh2,\n",
    "            \"sc3\": sc3, \"sh3\": sh3, \"sc4\": sc4, \"sh4\": sh4,\n",
    "            \"sc5\": sc5, \"sh5\": sh5\n",
    "        }\n",
    "\n",
    "        with open(SAVE_PATH, \"wb\") as f:\n",
    "            pickle.dump(weights, f)\n",
    "\n",
    "        print(f\"Weights saved at iteration {i}\")\n"
   ]
  },
  {
   "cell_type": "code",
   "execution_count": 41,
   "metadata": {},
   "outputs": [],
   "source": [
    "(Y_e,Acn1, Acn2, Mp1,Acn3, Acn4, Mp2, Acn5, A1,A2, Z1, Z2, Z3,Zcn1, Zcn2, Zcn3, Zcn4, Zcn5,cac1, cac2, cac3, cac4, cac5,Zcnn1, Zcnn2, Zcnn3, Zcnn4, Zcnn5)=forward_prop(x_test[:100], W1, b1, W2, b2, W3, b3,\n",
    "                                Wcn1, Wcn2, Wcn3, Wcn4, Wcn5,\n",
    "                                bcn1, bcn2, bcn3, bcn4, bcn5,\n",
    "                                sc1, sc2, sc3, sc4, sc5,\n",
    "                                sh1, sh2, sh3, sh4, sh5)"
   ]
  },
  {
   "cell_type": "code",
   "execution_count": 31,
   "metadata": {},
   "outputs": [
    {
     "data": {
      "text/plain": [
       "(10, 26, 26, 16)"
      ]
     },
     "execution_count": 31,
     "metadata": {},
     "output_type": "execute_result"
    }
   ],
   "source": [
    "Zcn1.shape"
   ]
  },
  {
   "cell_type": "code",
   "execution_count": 50,
   "metadata": {},
   "outputs": [
    {
     "data": {
      "image/png": "[encoded data removed]",
      "text/plain": [
       "<Figure size 640x480 with 1 Axes>"
      ]
     },
     "metadata": {},
     "output_type": "display_data"
    },
    {
     "data": {
      "image/png": "[encoded data removed]",
      "text/plain": [
       "<Figure size 640x480 with 1 Axes>"
      ]
     },
     "metadata": {},
     "output_type": "display_data"
    },
    {
     "data": {
      "image/png": "[encoded data removed]",
      "text/plain": [
       "<Figure size 640x480 with 1 Axes>"
      ]
     },
     "metadata": {},
     "output_type": "display_data"
    },
    {
     "data": {
      "image/png": "[encoded data removed]",
      "text/plain": [
       "<Figure size 640x480 with 1 Axes>"
      ]
     },
     "metadata": {},
     "output_type": "display_data"
    },
    {
     "data": {
      "image/png": "[encoded data removed]",
      "text/plain": [
       "<Figure size 640x480 with 1 Axes>"
      ]
     },
     "metadata": {},
     "output_type": "display_data"
    },
    {
     "data": {
      "image/png": "[encoded data removed]",
      "text/plain": [
       "<Figure size 640x480 with 1 Axes>"
      ]
     },
     "metadata": {},
     "output_type": "display_data"
    }
   ],
   "source": [
    "k=17\n",
    "\n",
    "plt.imshow(x_test[k, :, :], cmap='gray')\n",
    "plt.title(\"input Image\")\n",
    "plt.show()\n",
    "plt.imshow(Zcn1[k, :, :, 4], cmap='gray')\n",
    "plt.title(\"First convolution output\")\n",
    "plt.show()\n",
    "plt.imshow(Zcn2[k, :, :, 4], cmap='gray')\n",
    "plt.title(\"second convolution output\")\n",
    "plt.show()\n",
    "plt.imshow(Zcn3[k, :, :, 4], cmap='gray')\n",
    "plt.title(\"third convolution output + maxpooled\")\n",
    "plt.show()\n",
    "plt.imshow(Zcn4[k, :, :, 4], cmap='gray')\n",
    "plt.title(\"fourth convolution output\")\n",
    "plt.show()\n",
    "plt.imshow(Zcn5[k, :, :, 4], cmap='gray')\n",
    "plt.title(\"fifth convolution output + 2nd maxpool\")\n",
    "plt.show()"
   ]
  },
  {
   "cell_type": "code",
   "execution_count": 51,
   "metadata": {},
   "outputs": [],
   "source": [
    "Y_ef, *_ = forward_prop(x_test, W1, b1, W2, b2, W3, b3,\n",
    "                                Wcn1, Wcn2, Wcn3, Wcn4, Wcn5,\n",
    "                                bcn1, bcn2, bcn3, bcn4, bcn5,\n",
    "                                sc1, sc2, sc3, sc4, sc5,\n",
    "                                sh1, sh2, sh3, sh4, sh5)"
   ]
  },
  {
   "cell_type": "code",
   "execution_count": 37,
   "metadata": {},
   "outputs": [
    {
     "data": {
      "text/plain": [
       "(60000, 28, 28)"
      ]
     },
     "execution_count": 37,
     "metadata": {},
     "output_type": "execute_result"
    }
   ],
   "source": [
    "x_train.shape"
   ]
  },
  {
   "cell_type": "code",
   "execution_count": 149,
   "metadata": {},
   "outputs": [
    {
     "data": {
      "image/png": "[encoded data removed]",
      "text/plain": [
       "<Figure size 640x480 with 1 Axes>"
      ]
     },
     "metadata": {},
     "output_type": "display_data"
    },
    {
     "name": "stdout",
     "output_type": "stream",
     "text": [
      "Predicted label: 6\n"
     ]
    }
   ],
   "source": [
    "k = np.random.randint(1, 100)\n",
    "plt.imshow(x_tst[k], cmap=\"gray\")\n",
    "plt.show()\n",
    "print(\"Predicted label:\", np.argmax(Y_ef[:, k]))\n"
   ]
  },
  {
   "cell_type": "markdown",
   "metadata": {},
   "source": [
    "Code in tensorflow\n"
   ]
  },
  {
   "cell_type": "code",
   "execution_count": null,
   "metadata": {},
   "outputs": [],
   "source": [
    "import tensorflow as tf\n",
    "from tensorflow.keras import layers, models\n",
    "\n",
    "def build_cifar10_model():\n",
    "    model = models.Sequential([\n",
    "        layers.Conv2D(28, (3, 3), padding='same', kernel_initializer=tf.keras.initializers.HeNormal(), input_shape=(28, 28, 1)),\n",
    "        layers.BatchNormalization(),\n",
    "        layers.ReLU(),\n",
    "        \n",
    "        layers.Conv2D(32, (3, 3), padding='same', kernel_initializer=tf.keras.initializers.HeNormal()),\n",
    "        layers.BatchNormalization(),\n",
    "        layers.ReLU(),\n",
    "        layers.MaxPooling2D((2, 2)),\n",
    "        \n",
    "        layers.Conv2D(64, (3, 3), padding='same', kernel_initializer=tf.keras.initializers.HeNormal()),\n",
    "        layers.BatchNormalization(),\n",
    "        layers.ReLU(),\n",
    "        \n",
    "        layers.Conv2D(64, (3, 3), padding='same', kernel_initializer=tf.keras.initializers.HeNormal()),\n",
    "        layers.BatchNormalization(),\n",
    "        layers.ReLU(),\n",
    "        layers.MaxPooling2D((2, 2)),\n",
    "        \n",
    "        layers.Conv2D(128, (3, 3), padding='same', kernel_initializer=tf.keras.initializers.HeNormal()),\n",
    "        layers.BatchNormalization(),\n",
    "        layers.ReLU(),\n",
    "        layers.MaxPooling2D((2, 2)),\n",
    "        \n",
    "        layers.Flatten(),\n",
    "        layers.Dense(128, kernel_initializer=tf.keras.initializers.HeNormal()),\n",
    "        layers.ReLU(),\n",
    "        \n",
    "        layers.Dense(10, kernel_initializer=tf.keras.initializers.HeNormal(), activation='softmax')\n",
    "    ])\n",
    "    \n",
    "    return model\n",
    "\n",
    "\n",
    "\n",
    "(x_train, y_train), (x_test, y_test) = tf.keras.datasets.mnist.load_data()\n",
    "y_train = tf.keras.utils.to_categorical(y_train, 10)\n",
    "y_test = tf.keras.utils.to_categorical(y_test, 10)\n",
    "\n",
    "\n",
    "x_train, x_test = x_train / 255.0, x_test / 255.0\n",
    "\n",
    "\n",
    "model = build_cifar10_model()\n",
    "\n",
    "\n",
    "optimizer = tf.keras.optimizers.SGD(learning_rate=0.01)\n",
    "model.compile(optimizer=optimizer, \n",
    "              loss='categorical_crossentropy', \n",
    "              metrics=['accuracy'])\n",
    "\n",
    "\n",
    "model.fit(x_train, y_train, epochs=20, batch_size=64, validation_data=(x_test, y_test))\n",
    "\n",
    "\n",
    "test_loss, test_acc = model.evaluate(x_test, y_test)\n",
    "print(f'Test accuracy: {test_acc:.4f}')\n",
    "\n",
    "\n",
    "#hardly 10 lines of code\n"
   ]
  },
  {
   "cell_type": "markdown",
   "metadata": {},
   "source": [
    "The architecture I am using is definately overkill for mnist It is so because i Was targeting a different dataset >.<\n",
    "You could easily get 90 % plus accuracy using a 8 to 15 k parameter model (I havent try it myself YET)."
   ]
  },
  {
   "cell_type": "markdown",
   "metadata": {},
   "source": [
    "I hope everything is understandable"
   ]
  },
  {
   "cell_type": "markdown",
   "metadata": {},
   "source": []
  }
 ],
 "metadata": {
  "kernelspec": {
   "display_name": "venvNPT",
   "language": "python",
   "name": "python3"
  },
  "language_info": {
   "codemirror_mode": {
    "name": "ipython",
    "version": 3
   },
   "file_extension": ".py",
   "mimetype": "text/x-python",
   "name": "python",
   "nbconvert_exporter": "python",
   "pygments_lexer": "ipython3",
   "version": "3.11.11"
  }
 },
 "nbformat": 4,
 "nbformat_minor": 2
}
